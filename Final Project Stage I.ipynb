{
 "cells": [
  {
   "cell_type": "markdown",
   "metadata": {},
   "source": [
    "# Rocket Propulsion\n",
    "***Final Project***\n",
    "\n",
    "---"
   ]
  },
  {
   "cell_type": "code",
   "execution_count": 34,
   "metadata": {},
   "outputs": [],
   "source": [
    "import numpy as np\n",
    "import matplotlib.pyplot as plt"
   ]
  },
  {
   "cell_type": "code",
   "execution_count": 35,
   "metadata": {},
   "outputs": [],
   "source": [
    "# functions\n",
    "def V1(R,T,p):\n",
    "    return R*T/p\n",
    "\n",
    "def Vy(V1,p1,py,k):\n",
    "    return V1*( p1/py )**(1/k)\n",
    "\n",
    "def Ty(T1,p1,py,k):\n",
    "    return T1*( py/p1 )**( (k-1)/k )\n",
    "\n",
    "def Vt(V1,k):\n",
    "    return V1 *( (k+1)/2 )**(1/(k-1))\n",
    "\n",
    "def Tt(T1,k):\n",
    "    return 2*T1 / (k+1)\n",
    "\n",
    "def vt(k,R,Tt):\n",
    "    return np.sqrt(k*R*Tt)\n",
    "\n",
    "def vy(T1,p1,py,k,R):\n",
    "    return np.sqrt(2*k / (k-1) * R*T1 * (1 - (py/p1)**((k-1)/k)))\n",
    "\n",
    "def My(Ty,vy,k,R):\n",
    "    return vy / (k*R*Ty)**(1/2)\n",
    "\n",
    "def Ay(m_dot,Vy,vy):\n",
    "    return m_dot*Vy/vy"
   ]
  },
  {
   "cell_type": "markdown",
   "metadata": {},
   "source": [
    "## Stage I"
   ]
  },
  {
   "cell_type": "markdown",
   "metadata": {},
   "source": [
    " Place the probe into a 500 km altitude parking orbit.\n",
    " \n",
    " For full credit: Design your own rocket system\n",
    "- Must calculate vehicle Isp based on your design parameters\n",
    "    - Fuel and Oxidizer · Chamber pressure · Nozzle design\n",
    "    - mass flow rates\n",
    "    - exit velocities\n",
    "- Estimate your vehicle weight\n",
    "    - References for similar components (or assumptions)\n",
    "    - Similar existing vehicle weights also acceptable"
   ]
  },
  {
   "cell_type": "markdown",
   "metadata": {},
   "source": [
    "| Parameter | Value   \n",
    "|----|-:|\n",
    "|Fuel | $H_2 (l)$ \n",
    "|Oxidizer | $O_2 (l)$ \n",
    "|Chamber pressure  | 10 MPa\n",
    "| Expansion ratio  | 30:1\n",
    "| Exit diameter  | 1.3 m"
   ]
  },
  {
   "cell_type": "markdown",
   "metadata": {},
   "source": [
    "### $I_{sp} \\space Calculation$"
   ]
  },
  {
   "cell_type": "markdown",
   "metadata": {},
   "source": [
    "The optimal performance O/F mass ratio was determined by setting increasing values from 1 to 4.5 and observing how the $I_{sp}$ varied. Once the $I_{sp}$ reached a maximum value, the corresponding ratio was taken to be 4.2. For comparison, an O/F ratio $r =  4.1$ delivers an $I_{sp} = 431.10$ s, for $r =  4.2, \\space I_{sp} = 431.11$ s, and for $r =  4.4, \\space I_{sp} = 430.96$ s \n",
    "\n",
    "| Parameter | Value   \n",
    "|----|-:|\n",
    "|Optimal O/F ratio | 4.2\n",
    "|$I_{sp}$ | 431.11 s"
   ]
  },
  {
   "cell_type": "markdown",
   "metadata": {},
   "source": [
    "### Thrust force under ideal conditions"
   ]
  },
  {
   "cell_type": "code",
   "execution_count": 36,
   "metadata": {},
   "outputs": [
    {
     "name": "stdout",
     "output_type": "stream",
     "text": [
      "total mass-flow rate: 183.99 kg/s\n",
      "ideal thrust:\t\t 777807 N\n"
     ]
    }
   ],
   "source": [
    "p_1 = 10e6 # Pa\n",
    "A_r = 30 # area ratio\n",
    "d_2 = 1.3 # m\n",
    "A_2 = np.pi/4*d_2**2 # m^2\n",
    "A_t = A_2/30 # m^2\n",
    "v_t = 1617.6 # m/s\n",
    "density_t = 2.5708 # kg/m^3\n",
    "M_2 = 4.219\n",
    "v_sonic_2 = 1002 # m/s\n",
    "v_2 = M_2*v_sonic_2 # m/s\n",
    "p_2 = .25416e5 # Pa\n",
    "\n",
    "m_dot = A_t*v_t*density_t\n",
    "F_ideal = m_dot*v_2\n",
    "\n",
    "print(\"total mass-flow rate: %.2f kg/s\" % m_dot)\n",
    "print(\"ideal thrust:\\t\\t %d N\" % F_ideal)"
   ]
  },
  {
   "cell_type": "markdown",
   "metadata": {},
   "source": [
    "### Thrust force at sea-level"
   ]
  },
  {
   "cell_type": "markdown",
   "metadata": {},
   "source": [
    "The thrust force can be determined by using the equation $F = \\dot{m}v_2 + (p_2 - p_3)A_2$."
   ]
  },
  {
   "cell_type": "code",
   "execution_count": 37,
   "metadata": {},
   "outputs": [
    {
     "name": "stdout",
     "output_type": "stream",
     "text": [
      "sea-level thrust:\t 677084 N\n"
     ]
    }
   ],
   "source": [
    "p_3 = 1.013e5 # Pa\n",
    "F_sea = m_dot*v_2 + (p_2 - p_3)*A_2\n",
    "print(\"sea-level thrust:\\t %d N\" % F_sea)"
   ]
  },
  {
   "cell_type": "markdown",
   "metadata": {},
   "source": [
    "There is a discrepancy between the values at ideal expansion conditions and at sea level becuase the pressure thrust term $(p_2-p_3)A_2$ becomes zero for ideal expansion, but is negative at sea level."
   ]
  },
  {
   "cell_type": "markdown",
   "metadata": {},
   "source": [
    "### Mass-flow rates for fuel and oxidizer"
   ]
  },
  {
   "cell_type": "markdown",
   "metadata": {},
   "source": [
    "To determine the required mass-flow rates of the oxidizer and fuel, conservation of mass can be used. \n",
    "\n",
    "$$\\dot{m}=\\dot{m_1}+\\dot{m_2}$$\n",
    "\n",
    "Since the optimal O/F mass ratio $r$ was 4.2, then 4.2 times the oxidizer must enter the chamber per unit time.\n",
    "\n",
    "$$\\dot{m}=\\dot{m_o}+\\frac{1}{4.2}\\dot{m_o}$$"
   ]
  },
  {
   "cell_type": "code",
   "execution_count": 38,
   "metadata": {},
   "outputs": [
    {
     "name": "stdout",
     "output_type": "stream",
     "text": [
      "LOX mass-flow rate:\t 148.61 kg/s\n",
      "C2H6 mass-flow rate:\t 35.38 kg/s\n"
     ]
    }
   ],
   "source": [
    "r = 4.2\n",
    "mo_dot = m_dot/(1 + 1/r); mf_dot = mo_dot/r\n",
    "print(\"LOX mass-flow rate:\\t %.2f kg/s\" % mo_dot)\n",
    "print(\"C2H6 mass-flow rate:\\t %.2f kg/s\" % mf_dot)"
   ]
  },
  {
   "cell_type": "markdown",
   "metadata": {},
   "source": [
    "If the burn time is 200 s, then the total amount of $O_2 \\space(l)$ and $H_2\\space (l)$ can be found by multiplying their respective flow rates by 200 s."
   ]
  },
  {
   "cell_type": "markdown",
   "metadata": {},
   "source": [
    "### Ox and Fuel Weights"
   ]
  },
  {
   "cell_type": "markdown",
   "metadata": {},
   "source": [
    "If the rocket is designed to have burnout time of 200 s, then the total mass can be calculated from the mass-flow rates."
   ]
  },
  {
   "cell_type": "code",
   "execution_count": 39,
   "metadata": {},
   "outputs": [
    {
     "name": "stdout",
     "output_type": "stream",
     "text": [
      "LOX mass:\t 29721.50 kg\n",
      "C2H6 mass:\t 7076.55 kg\n"
     ]
    }
   ],
   "source": [
    "t_burn = 200 # s\n",
    "m_o = mo_dot*t_burn\n",
    "m_f = mf_dot*t_burn\n",
    "print(\"LOX mass:\\t %.2f kg\" % m_o)\n",
    "print(\"C2H6 mass:\\t %.2f kg\" % m_f)"
   ]
  },
  {
   "cell_type": "markdown",
   "metadata": {},
   "source": [
    "Assuming that the mass of the fuel is 85 % of the rocket's mass, then mass of the rocket becomes $$ M_t = \\frac{m_f + m_o}{0.85}$$"
   ]
  },
  {
   "cell_type": "code",
   "execution_count": 40,
   "metadata": {},
   "outputs": [
    {
     "name": "stdout",
     "output_type": "stream",
     "text": [
      "Total rocket mass: 43291.82 kg\n"
     ]
    }
   ],
   "source": [
    "M_r = 0.85 # mass ratio\n",
    "M_t = (m_f + m_o)/M_r # kg\n",
    "\n",
    "print(\"Total rocket mass: %.2f kg\" % M_t)"
   ]
  },
  {
   "cell_type": "markdown",
   "metadata": {},
   "source": [
    "### Nozzel Design"
   ]
  },
  {
   "cell_type": "markdown",
   "metadata": {},
   "source": [
    "The first step is to determine the average molecular weight of the gas so that the specific volume can be calcluated at the chamber."
   ]
  },
  {
   "cell_type": "code",
   "execution_count": 41,
   "metadata": {},
   "outputs": [],
   "source": [
    "mol_w_O2 = 2*15.999 # g/mol\n",
    "mol_w_H2 = 2.01588 # g/mol\n",
    "mol_O2 = m_o / mol_w_O2 # mol\n",
    "mol_H2 = m_f / mol_w_H2 # mol\n",
    "mol_t = mol_H2 + mol_O2 # mol\n",
    "mol_frac_O2 = mol_O2/mol_t \n",
    "mol_frac_H2 = mol_H2/mol_t"
   ]
  },
  {
   "cell_type": "code",
   "execution_count": 42,
   "metadata": {},
   "outputs": [
    {
     "data": {
      "text/plain": [
       "(0.20923661455407944, 0.7907633854459205)"
      ]
     },
     "execution_count": 42,
     "metadata": {},
     "output_type": "execute_result"
    }
   ],
   "source": [
    "mol_frac_O2, mol_frac_H2"
   ]
  },
  {
   "cell_type": "code",
   "execution_count": 20,
   "metadata": {
    "scrolled": true
   },
   "outputs": [
    {
     "name": "stdout",
     "output_type": "stream",
     "text": [
      "average molecular weight: 8.29 g/moles\n"
     ]
    }
   ],
   "source": [
    "avg_mol_w = mol_frac_O2*mol_w_O2 + mol_frac_H2*mol_w_H2\n",
    "print(\"average molecular weight: %.2f g/moles\" % avg_mol_w)"
   ]
  },
  {
   "cell_type": "code",
   "execution_count": 48,
   "metadata": {},
   "outputs": [],
   "source": [
    "# Constants\n",
    "R_u = 8.314 # J/mol-K\n",
    "R_g = R_u/avg_mol_w # kJ/kg-mol\n",
    "T_1 = 3039.41 # K\n",
    "k = (1.1842 + 1.1941 + 1.304)/3 # average taken from different k values given from CEA report\n"
   ]
  },
  {
   "cell_type": "code",
   "execution_count": 49,
   "metadata": {},
   "outputs": [
    {
     "name": "stderr",
     "output_type": "stream",
     "text": [
      "/anaconda3/lib/python3.6/site-packages/ipykernel_launcher.py:27: RuntimeWarning: divide by zero encountered in true_divide\n"
     ]
    }
   ],
   "source": [
    "# calculations\n",
    "V_1 = V1(R_g,T_1,p_1)\n",
    "\n",
    "T_y = Ty(T_1,p_1,py,k)\n",
    "V_y = Vy(V_1,p_1,py,k)\n",
    "v_y = vy(T_1,p_1,py,k,R_g)\n",
    "\n",
    "V_t = Vt(V_1,k)\n",
    "v_t = vt(k,R_g,T_1)\n",
    "T_t = Tt(T_1,k)\n",
    "\n",
    "M_y = My(T_y,v_y,k,R_g)\n",
    "A_y = Ay(m_dot,V_y,v_y)"
   ]
  },
  {
   "cell_type": "markdown",
   "metadata": {},
   "source": [
    "*Note: There is a discrepancy between the actual gas constant $R_g$ and the one determined in the calculation below because the average molecular weight was determined for frozen chemistry conditions*"
   ]
  },
  {
   "cell_type": "code",
   "execution_count": 51,
   "metadata": {},
   "outputs": [
    {
     "data": {
      "image/png": "[encoded data removed]",
      "text/plain": [
       "<Figure size 720x1440 with 3 Axes>"
      ]
     },
     "metadata": {},
     "output_type": "display_data"
    }
   ],
   "source": [
    "# plot results\n",
    "\n",
    "fig , ax = plt.subplots(3,1)\n",
    "\n",
    "ax[0].plot(py,v_y)\n",
    "ax[0].set_xlabel('Pressure from chamber to atmosphere, Pa')\n",
    "ax[0].set_ylabel('Velocity, m/s')\n",
    "ax[0].invert_xaxis()\n",
    "\n",
    "ax[1].plot(py,M_y)\n",
    "ax[1].set_xlabel('Pressure from chamber to atmosphere, Pa')\n",
    "ax[1].set_ylabel('Mach number')\n",
    "ax[1].invert_xaxis()\n",
    "\n",
    "ax[2].plot(py,A_y)\n",
    "ax[2].set_xlabel('Pressure from chamber to atmosphere, Pa')\n",
    "ax[2].set_ylabel('Area, (m^2)')\n",
    "ax[2].invert_xaxis()\n",
    "\n",
    "#fig.tight_layout(pad=0.4, w_pad=0.5, h_pad=2.0)\n",
    "fig.set_figheight(20)\n",
    "fig.set_figwidth(10)"
   ]
  },
  {
   "cell_type": "code",
   "execution_count": null,
   "metadata": {},
   "outputs": [],
   "source": []
  }
 ],
 "metadata": {
  "kernelspec": {
   "display_name": "Python 3",
   "language": "python",
   "name": "python3"
  },
  "language_info": {
   "codemirror_mode": {
    "name": "ipython",
    "version": 3
   },
   "file_extension": ".py",
   "mimetype": "text/x-python",
   "name": "python",
   "nbconvert_exporter": "python",
   "pygments_lexer": "ipython3",
   "version": "3.6.4"
  }
 },
 "nbformat": 4,
 "nbformat_minor": 2
}
